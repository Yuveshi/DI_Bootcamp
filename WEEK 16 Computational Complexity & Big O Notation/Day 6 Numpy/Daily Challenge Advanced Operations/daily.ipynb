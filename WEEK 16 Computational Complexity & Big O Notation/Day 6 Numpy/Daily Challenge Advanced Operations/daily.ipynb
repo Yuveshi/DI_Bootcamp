{
 "cells": [
  {
   "cell_type": "code",
   "execution_count": 1,
   "metadata": {},
   "outputs": [
    {
     "name": "stdout",
     "output_type": "stream",
     "text": [
      "Original Data:\n",
      " [[66 47 19 80 88]\n",
      " [28 67 55 61 26]\n",
      " [ 7 48 15 87 49]\n",
      " [85 78 19 64 64]\n",
      " [60 73  9 44 88]]\n"
     ]
    }
   ],
   "source": [
    "import numpy as np\n",
    "\n",
    "# Create the 5x5 matrix with random integers between 1 and 100\n",
    "data = np.array(np.random.randint(1, 100, size=25)).reshape(5,5)\n",
    "print(\"Original Data:\\n\", data)\n"
   ]
  },
  {
   "cell_type": "code",
   "execution_count": 2,
   "metadata": {},
   "outputs": [
    {
     "name": "stdout",
     "output_type": "stream",
     "text": [
      "After Swapping Rows:\n",
      " [[66 47 19 80 88]\n",
      " [85 78 19 64 64]\n",
      " [ 7 48 15 87 49]\n",
      " [28 67 55 61 26]\n",
      " [60 73  9 44 88]]\n"
     ]
    }
   ],
   "source": [
    "# Swap the second (index 1) and fourth (index 3) rows\n",
    "data[[1, 3]] = data[[3, 1]]\n",
    "print(\"After Swapping Rows:\\n\", data)\n"
   ]
  },
  {
   "cell_type": "code",
   "execution_count": 3,
   "metadata": {},
   "outputs": [
    {
     "name": "stdout",
     "output_type": "stream",
     "text": [
      "After Swapping Rows:\n",
      " [[66 47 19 80 88]\n",
      " [28 67 55 61 26]\n",
      " [ 7 48 15 87 49]\n",
      " [85 78 19 64 64]\n",
      " [60 73  9 44 88]]\n"
     ]
    }
   ],
   "source": [
    "# Swap the second (index 1) and fourth (index 3) rows\n",
    "data[[1, 3]] = data[[3, 1]]\n",
    "print(\"After Swapping Rows:\\n\", data)\n"
   ]
  },
  {
   "cell_type": "code",
   "execution_count": 4,
   "metadata": {},
   "outputs": [
    {
     "name": "stdout",
     "output_type": "stream",
     "text": [
      "Normalized Data:\n",
      " [[0.72839506 0.49382716 0.14814815 0.90123457 1.        ]\n",
      " [0.25925926 0.74074074 0.59259259 0.66666667 0.2345679 ]\n",
      " [0.         0.50617284 0.09876543 0.98765432 0.51851852]\n",
      " [0.96296296 0.87654321 0.14814815 0.7037037  0.7037037 ]\n",
      " [0.65432099 0.81481481 0.02469136 0.45679012 1.        ]]\n"
     ]
    }
   ],
   "source": [
    "normalized_data = (data - np.min(data)) / (np.max(data) - np.min(data))\n",
    "print(\"Normalized Data:\\n\", normalized_data)\n"
   ]
  },
  {
   "cell_type": "code",
   "execution_count": 5,
   "metadata": {},
   "outputs": [
    {
     "name": "stdout",
     "output_type": "stream",
     "text": [
      "Z-Score Normalized Data:\n",
      " [[ 0.50401364 -0.23718289 -1.3294725   1.05015844  1.36224119]\n",
      " [-0.97837941  0.54302398  0.07489986  0.30896192 -1.0564001 ]\n",
      " [-1.79759662 -0.19817254 -1.48551387  1.32323084 -0.1591622 ]\n",
      " [ 1.24521016  0.97213775 -1.3294725   0.42599295  0.42599295]\n",
      " [ 0.26995158  0.77708604 -1.71957593 -0.35421392  1.36224119]]\n"
     ]
    }
   ],
   "source": [
    "z_score_data = (data - np.mean(data)) / np.std(data)\n",
    "print(\"Z-Score Normalized Data:\\n\", z_score_data)\n"
   ]
  },
  {
   "cell_type": "code",
   "execution_count": 6,
   "metadata": {},
   "outputs": [
    {
     "name": "stdout",
     "output_type": "stream",
     "text": [
      "Split Arrays:\n",
      " [array([66, 47, 19, 80, 88], dtype=int32), array([28, 67, 55, 61, 26], dtype=int32), array([ 7, 48, 15, 87, 49], dtype=int32), array([85, 78, 19, 64, 64], dtype=int32), array([60, 73,  9, 44, 88], dtype=int32)]\n"
     ]
    }
   ],
   "source": [
    "# Reshape to a 1D array and split into 5 sub-arrays\n",
    "flat_data = np.ravel(data)\n",
    "split_arrays = np.split(flat_data, 5)\n",
    "print(\"Split Arrays:\\n\", split_arrays)\n"
   ]
  },
  {
   "cell_type": "code",
   "execution_count": 7,
   "metadata": {},
   "outputs": [
    {
     "name": "stdout",
     "output_type": "stream",
     "text": [
      "Dot Product: 198\n"
     ]
    }
   ],
   "source": [
    "# Define two vectors\n",
    "vec1 = np.array([3, 5, 6, 7, 8])\n",
    "vec2 = np.array([2, 4, 6, 8, 10])\n",
    "dot_product = np.dot(vec1, vec2)\n",
    "print(\"Dot Product:\", dot_product)\n"
   ]
  },
  {
   "cell_type": "code",
   "execution_count": 8,
   "metadata": {},
   "outputs": [
    {
     "name": "stdout",
     "output_type": "stream",
     "text": [
      "Matrix Multiplication Result:\n",
      " [[8603 3470 4473]\n",
      " [9151 7014 5425]\n",
      " [4744 2651 3160]]\n"
     ]
    }
   ],
   "source": [
    "# Create a new 3x3 matrix\n",
    "data2 = np.random.randint(1, 100, size=(3, 3))\n",
    "\n",
    "# Multiply the first 3x3 part of the data matrix with data2\n",
    "result = np.dot(data[:3, :3], data2)\n",
    "print(\"Matrix Multiplication Result:\\n\", result)\n"
   ]
  },
  {
   "cell_type": "code",
   "execution_count": 9,
   "metadata": {},
   "outputs": [
    {
     "name": "stdout",
     "output_type": "stream",
     "text": [
      "Inverse of 2x Identity Matrix:\n",
      " [[0.5 0.  0. ]\n",
      " [0.  0.5 0. ]\n",
      " [0.  0.  0.5]]\n"
     ]
    }
   ],
   "source": [
    "# Create a 3x3 identity matrix and multiply by 2\n",
    "identity_matrix = np.eye(3) * 2\n",
    "inverse_matrix = np.linalg.inv(identity_matrix)\n",
    "print(\"Inverse of 2x Identity Matrix:\\n\", inverse_matrix)\n"
   ]
  },
  {
   "cell_type": "code",
   "execution_count": 10,
   "metadata": {},
   "outputs": [
    {
     "name": "stdout",
     "output_type": "stream",
     "text": [
      "Eigenvalues:\n",
      " [122.90705684  42.7708614  -17.67791824]\n",
      "Eigenvectors:\n",
      " [[ 0.66377172  0.89484994  0.13694055]\n",
      " [ 0.66643866 -0.31402989 -0.57102342]\n",
      " [ 0.33950938 -0.31722045  0.80943162]]\n"
     ]
    }
   ],
   "source": [
    "# Compute eigenvalues and eigenvectors for the first 3x3 part of the data\n",
    "eigenvalues, eigenvectors = np.linalg.eig(data[:3, :3])\n",
    "print(\"Eigenvalues:\\n\", eigenvalues)\n",
    "print(\"Eigenvectors:\\n\", eigenvectors)\n"
   ]
  },
  {
   "cell_type": "code",
   "execution_count": 12,
   "metadata": {},
   "outputs": [
    {
     "name": "stdout",
     "output_type": "stream",
     "text": [
      "Data with Missing Values:\n",
      " [[26. 30. nan 51. 75.]\n",
      " [90. 94. nan 94. 29.]\n",
      " [57. 30. 18. 33.  1.]\n",
      " [nan 27. 64. 67. nan]\n",
      " [16. 54. 52. 89. nan]]\n",
      "NaN Indices:\n",
      " (array([0, 1, 3, 3, 4]), array([2, 2, 0, 4, 4]))\n"
     ]
    }
   ],
   "source": [
    "import numpy as np\n",
    "\n",
    "# Create the data matrix again as a float type so it can hold NaN values\n",
    "data = np.array(np.random.randint(1, 100, size=25)).reshape(5, 5).astype(float)\n",
    "\n",
    "# Set 5 random elements to NaN\n",
    "data_with_nan = data.copy()\n",
    "nan_indices = np.random.choice(data.size, 5, replace=False)\n",
    "data_with_nan[np.unravel_index(nan_indices, data.shape)] = np.nan\n",
    "print(\"Data with Missing Values:\\n\", data_with_nan)\n",
    "\n",
    "# Find indices of NaN values\n",
    "nan_positions = np.where(np.isnan(data_with_nan))\n",
    "print(\"NaN Indices:\\n\", nan_positions)\n",
    "\n"
   ]
  },
  {
   "cell_type": "code",
   "execution_count": 13,
   "metadata": {},
   "outputs": [
    {
     "name": "stdout",
     "output_type": "stream",
     "text": [
      "Data after Replacing NaNs with Mean:\n",
      " [[26.   30.   49.85 51.   75.  ]\n",
      " [90.   94.   49.85 94.   29.  ]\n",
      " [57.   30.   18.   33.    1.  ]\n",
      " [49.85 27.   64.   67.   49.85]\n",
      " [16.   54.   52.   89.   49.85]]\n"
     ]
    }
   ],
   "source": [
    "# Replace NaNs with the mean of the data (ignoring NaNs)\n",
    "mean_value = np.nanmean(data_with_nan)\n",
    "data_with_nan[np.isnan(data_with_nan)] = mean_value\n",
    "print(\"Data after Replacing NaNs with Mean:\\n\", data_with_nan)\n"
   ]
  }
 ],
 "metadata": {
  "kernelspec": {
   "display_name": "Python 3",
   "language": "python",
   "name": "python3"
  },
  "language_info": {
   "codemirror_mode": {
    "name": "ipython",
    "version": 3
   },
   "file_extension": ".py",
   "mimetype": "text/x-python",
   "name": "python",
   "nbconvert_exporter": "python",
   "pygments_lexer": "ipython3",
   "version": "3.12.4"
  }
 },
 "nbformat": 4,
 "nbformat_minor": 2
}
