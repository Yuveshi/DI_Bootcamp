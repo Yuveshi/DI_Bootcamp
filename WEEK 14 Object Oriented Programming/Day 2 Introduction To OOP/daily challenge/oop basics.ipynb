{
 "cells": [
  {
   "cell_type": "code",
   "execution_count": null,
   "metadata": {},
   "outputs": [],
   "source": [
    "class Farm:\n",
    "    def __init__(self, name):\n",
    "        self.name=name\n",
    "        self.animals ={}\n",
    "\n",
    "    def add_animal(self, animal, qty):\n",
    "        print(f\"{animal} : {qty}\")\n",
    "\n",
    "    def get_info(self):\n",
    "        info=\"\"\n",
    "        info=\"\\n\\tE-I-E-I-0!\"\n",
    "        return info\n",
    "\n",
    "macdonald = Farm(\"McDonald\")\n",
    "macdonald.add_animal('cow',5)\n",
    "macdonald.add_animal('sheep',1)\n",
    "macdonald.add_animal('sheep',1)\n",
    "macdonald.add_animal('goat', 12)\n",
    "print(macdonald.get_info())"
   ]
  },
  {
   "cell_type": "code",
   "execution_count": null,
   "metadata": {},
   "outputs": [],
   "source": []
  }
 ],
 "metadata": {
  "language_info": {
   "name": "python"
  }
 },
 "nbformat": 4,
 "nbformat_minor": 2
}
